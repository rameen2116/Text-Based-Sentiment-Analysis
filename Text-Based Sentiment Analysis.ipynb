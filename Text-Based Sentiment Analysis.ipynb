{
 "cells": [
  {
   "cell_type": "markdown",
   "id": "445097e2",
   "metadata": {},
   "source": [
    "## Datapreprocessing and loading"
   ]
  },
  {
   "cell_type": "code",
   "execution_count": 1,
   "id": "8c20f096",
   "metadata": {},
   "outputs": [
    {
     "name": "stderr",
     "output_type": "stream",
     "text": [
      "IOPub data rate exceeded.\n",
      "The notebook server will temporarily stop sending output\n",
      "to the client in order to avoid crashing it.\n",
      "To change this limit, set the config variable\n",
      "`--NotebookApp.iopub_data_rate_limit`.\n",
      "\n",
      "Current values:\n",
      "NotebookApp.iopub_data_rate_limit=1000000.0 (bytes/sec)\n",
      "NotebookApp.rate_limit_window=3.0 (secs)\n",
      "\n"
     ]
    }
   ],
   "source": [
    "import json\n",
    "\n",
    "def load_json(file_path):\n",
    "    with open(file_path, 'r') as file:\n",
    "        data = [json.loads(line) for line in file]\n",
    "    return data\n",
    "file_path = 'Cell_Phones_and_Accessories_5.json'\n",
    "reviews_data = load_json(file_path)\n",
    "# Storing in a list of dictionaries\n",
    "reviews_list = []\n",
    "for x in reviews_data:\n",
    "    reviews_list.append(x)\n",
    "for i, item in enumerate(reviews_list, start=1):\n",
    "    print(f\"Item {i}: {x}\")"
   ]
  },
  {
   "cell_type": "code",
   "execution_count": 2,
   "id": "c5723908",
   "metadata": {},
   "outputs": [
    {
     "name": "stdout",
     "output_type": "stream",
     "text": [
      "Number of reviews: 194439\n",
      "Columns of the dataset: ['reviewerID', 'asin', 'reviewerName', 'helpful', 'reviewText', 'overall', 'summary', 'unixReviewTime', 'reviewTime']\n"
     ]
    },
    {
     "name": "stderr",
     "output_type": "stream",
     "text": [
      "IOPub data rate exceeded.\n",
      "The notebook server will temporarily stop sending output\n",
      "to the client in order to avoid crashing it.\n",
      "To change this limit, set the config variable\n",
      "`--NotebookApp.iopub_data_rate_limit`.\n",
      "\n",
      "Current values:\n",
      "NotebookApp.iopub_data_rate_limit=1000000.0 (bytes/sec)\n",
      "NotebookApp.rate_limit_window=3.0 (secs)\n",
      "\n"
     ]
    }
   ],
   "source": [
    "num_reviews = len(reviews_list)\n",
    "print(\"Number of reviews:\", num_reviews) \n",
    "\n",
    "sample_item = reviews_data[0]  \n",
    "columns = list(sample_item.keys())  #to get columns of the data\n",
    "print(\"Columns of the dataset:\", columns)\n",
    "\n",
    "# Filter dataset to retain necessary columns \n",
    "filtered_reviews = [{'reviewText': review['reviewText'], 'summary': review['summary'], 'overall': review['overall']} for review in reviews_data]\n",
    "print(filtered_reviews)"
   ]
  },
  {
   "cell_type": "code",
   "execution_count": 3,
   "id": "dcefe554",
   "metadata": {},
   "outputs": [
    {
     "name": "stdout",
     "output_type": "stream",
     "text": [
      "Review 1:\n",
      "Review Text: They look good and stick good! I just don't like the rounded shape because I was always bumping it and Siri kept popping up and it was irritating. I just won't buy a product like this again\n",
      "Summary: Looks Good\n",
      "Overall: 4.0\n",
      "\n",
      "Review 2:\n",
      "Review Text: These stickers work like the review says they do. They stick on great and they stay on the phone. They are super stylish and I can share them with my sister. :)\n",
      "Summary: Really great product.\n",
      "Overall: 5.0\n",
      "\n",
      "Review 3:\n",
      "Review Text: These are awesome and make my phone look so stylish! I have only used one so far and have had it on for almost a year! CAN YOU BELIEVE THAT! ONE YEAR!! Great quality!\n",
      "Summary: LOVE LOVE LOVE\n",
      "Overall: 5.0\n",
      "\n",
      "Review 4:\n",
      "Review Text: Item arrived in great time and was in perfect condition. However, I ordered these buttons because they were a great deal and included a FREE screen protector. I never received one. Though its not a big deal, it would've been nice to get it since they claim it comes with one.\n",
      "Summary: Cute!\n",
      "Overall: 4.0\n",
      "\n",
      "Review 5:\n",
      "Review Text: awesome! stays on, and looks great. can be used on multiple apple products.  especially having nails, it helps to have an elevated key.\n",
      "Summary: leopard home button sticker for iphone 4s\n",
      "Overall: 5.0\n",
      "\n",
      "Review 6:\n",
      "Review Text: These make using the home button easy. My daughter and I both like them.  I would purchase them again. Well worth the price.\n",
      "Summary: Cute\n",
      "Overall: 3.0\n",
      "\n",
      "Review 7:\n",
      "Review Text: Came just as described.. It doesn't come unstuck and its cute! People ask where I got them from & it's great when driving.\n",
      "Summary: best thing ever..\n",
      "Overall: 5.0\n",
      "\n",
      "Review 8:\n",
      "Review Text: it worked for the first week then it only charge my phone to 20%. it is a waste of money.\n",
      "Summary: not a good Idea\n",
      "Overall: 1.0\n",
      "\n",
      "Review 9:\n",
      "Review Text: Good case, solid build. Protects phone all around with good access to buttons. Battery charges with full battery lasts me a full day. I usually leave my house around 7am and return at 10pm. I'm glad that it lasts from start to end. 5/5\n",
      "Summary: Solid Case\n",
      "Overall: 5.0\n",
      "\n",
      "Review 10:\n",
      "Review Text: This is a fantastic case. Very stylish and protects my phone. Easy access to all buttons and features, without any loss of phone reception. But most importantly, it double power, just as promised. Great buy\n",
      "Summary: Perfect Case\n",
      "Overall: 5.0\n",
      "\n"
     ]
    }
   ],
   "source": [
    "#Creating a list of neccessary columns only\n",
    "reviews_subset = [{'reviewText': item['reviewText'], 'summary': item['summary'], 'overall': item['overall']} for item in reviews_data]\n",
    "for i, review in enumerate(reviews_subset[:10], start=1):\n",
    "    review_text = review['reviewText']\n",
    "    summary = review['summary']\n",
    "    overall = review['overall']\n",
    "    print(f\"Review {i}:\\nReview Text: {review_text}\\nSummary: {summary}\\nOverall: {overall}\\n\")"
   ]
  },
  {
   "cell_type": "markdown",
   "id": "1f336a2c",
   "metadata": {},
   "source": [
    "## Removing stopwords and punctuation"
   ]
  },
  {
   "cell_type": "code",
   "execution_count": 4,
   "id": "86031a04",
   "metadata": {},
   "outputs": [
    {
     "name": "stdout",
     "output_type": "stream",
     "text": [
      "Review 1: {'reviewText': 'look good stick good dont like rounded shape always bumping siri kept popping irritating wont buy product like', 'summary': 'looks good', 'overall': 4.0}\n",
      "Review 2: {'reviewText': 'stickers work like review says do stick great stay phone super stylish share sister ', 'summary': 'really great product', 'overall': 5.0}\n",
      "Review 3: {'reviewText': 'awesome make phone look stylish used one far almost year believe that one year great quality', 'summary': 'love love love', 'overall': 5.0}\n",
      "Review 4: {'reviewText': 'item arrived great time perfect condition however ordered buttons great deal included free screen protector never received one though big deal wouldve nice get since claim comes one', 'summary': 'cute', 'overall': 4.0}\n",
      "Review 5: {'reviewText': 'awesome stays on looks great used multiple apple products especially nails helps elevated key', 'summary': 'leopard home button sticker iphone 4s', 'overall': 5.0}\n",
      "Review 6: {'reviewText': 'make using home button easy daughter like them would purchase again well worth price', 'summary': 'cute', 'overall': 3.0}\n",
      "Review 7: {'reviewText': 'came described doesnt come unstuck cute people ask got  its great driving', 'summary': 'best thing ever', 'overall': 5.0}\n",
      "Review 8: {'reviewText': 'worked first week charge phone 20 waste money', 'summary': 'good idea', 'overall': 1.0}\n",
      "Review 9: {'reviewText': 'good case solid build protects phone around good access buttons battery charges full battery lasts full day usually leave house around 7am return 10pm im glad lasts start end 55', 'summary': 'solid case', 'overall': 5.0}\n",
      "Review 10: {'reviewText': 'fantastic case stylish protects phone easy access buttons features without loss phone reception importantly double power promised great buy', 'summary': 'perfect case', 'overall': 5.0}\n"
     ]
    }
   ],
   "source": [
    "import string\n",
    "import re \n",
    "#function to remove stopwords\n",
    "def remove_stopwords(text):\n",
    "    stop_words = {\n",
    "    \"i\", \"me\", \"my\", \"myself\", \"we\", \"our\", \"ours\", \"ourselves\", \"you\", \"your\", \"yours\", \"yourself\", \"yourselves\",\n",
    "    \"he\", \"him\", \"his\", \"himself\", \"she\", \"her\", \"hers\", \"herself\", \"it\", \"its\", \"itself\", \"they\", \"them\", \"their\",\n",
    "    \"theirs\", \"themselves\", \"what\", \"which\", \"who\", \"whom\", \"this\", \"that\", \"these\", \"those\", \"am\", \"is\", \"are\",\n",
    "    \"was\", \"were\", \"be\", \"been\", \"being\", \"have\", \"has\", \"had\", \"having\", \"do\", \"does\", \"did\", \"doing\", \"a\", \"an\",\n",
    "    \"the\", \"and\", \"but\", \"if\", \"or\", \"because\", \"as\", \"until\", \"while\", \"of\", \"at\", \"by\", \"for\", \"with\", \"about\",\n",
    "    \"against\", \"between\", \"into\", \"through\", \"during\", \"before\", \"after\", \"above\", \"below\", \"to\", \"from\", \"up\",\n",
    "    \"down\", \"in\", \"out\", \"on\", \"off\", \"over\", \"under\", \"again\", \"further\", \"then\", \"once\", \"here\", \"there\", \"when\",\n",
    "    \"where\", \"why\", \"how\", \"all\", \"any\", \"both\", \"each\", \"few\", \"more\", \"most\", \"other\", \"some\", \"such\", \"no\", \"nor\",\n",
    "    \"not\", \"only\", \"own\", \"same\", \"so\", \"than\", \"too\", \"very\", \"s\", \"t\", \"can\", \"will\", \"just\", \"don\", \"should\", \"now\"\n",
    "}\n",
    "    \n",
    "    # Spliting  text into words\n",
    "    words = text.split()\n",
    "    # Retain only non-stop words\n",
    "    filtered_words = [word for word in words if word.lower() not in stop_words]\n",
    "    # Joining the nonstop words back into a single string\n",
    "    return ' '.join(filtered_words)\n",
    "\n",
    "def remove_stopwordsfromreviews(reviews_subset):\n",
    "    for review in reviews_subset:\n",
    "        if 'reviewText' in review:\n",
    "            review['reviewText'] = remove_stopwords(review['reviewText'])\n",
    "        if 'summary' in review:\n",
    "            review['summary'] = remove_stopwords(review['summary'])\n",
    "# Removing stop words \n",
    "remove_stopwordsfromreviews(reviews_subset)\n",
    "\n",
    "# function to remove punctuation\n",
    "def remove_punctuation(text):\n",
    "    text = re.sub(r'[^\\w\\s]', '', text.lower())\n",
    "    return text \n",
    "\n",
    "# Removing punctuation \n",
    "for review in reviews_subset:\n",
    "    if 'reviewText' in review:\n",
    "        review['reviewText'] = remove_punctuation(review['reviewText'])\n",
    "    if 'summary' in review:\n",
    "        review['summary'] = remove_punctuation(review['summary'])\n",
    "\n",
    "for i, review in enumerate(reviews_subset[:10], start=1):\n",
    "    print(f\"Review {i}: {review}\")"
   ]
  },
  {
   "cell_type": "markdown",
   "id": "2e4bcf14",
   "metadata": {},
   "source": [
    "## Thematic analysis"
   ]
  },
  {
   "cell_type": "code",
   "execution_count": 5,
   "id": "a76fd4da",
   "metadata": {},
   "outputs": [
    {
     "name": "stdout",
     "output_type": "stream",
     "text": [
      "Number of Positive Reviews: 148657\n",
      "Number of Negative Reviews: 45782\n"
     ]
    }
   ],
   "source": [
    "def divide_reviewsbyrating(reviews):\n",
    "    positive_reviews = []\n",
    "    negative_reviews = []         #function to divide positive and negative reviews on the basis of rating\n",
    "\n",
    "    for review in reviews:\n",
    "        if review['overall'] >= 4:\n",
    "            positive_reviews.append(review['reviewText'])\n",
    "        elif review['overall'] <= 3:\n",
    "            negative_reviews.append(review['reviewText'])\n",
    "\n",
    "    return positive_reviews, negative_reviews\n",
    "\n",
    "positive_reviews, negative_reviews = divide_reviewsbyrating(reviews_subset)\n",
    "\n",
    "print(\"Number of Positive Reviews:\", len(positive_reviews))\n",
    "print(\"Number of Negative Reviews:\", len(negative_reviews))\n"
   ]
  },
  {
   "cell_type": "code",
   "execution_count": 6,
   "id": "635cb189",
   "metadata": {},
   "outputs": [
    {
     "name": "stdout",
     "output_type": "stream",
     "text": [
      "Positive Bigrams:\n",
      "[('look', 'good'), ('good', 'stick'), ('stick', 'good'), ('good', 'dont'), ('dont', 'like'), ('like', 'rounded'), ('rounded', 'shape'), ('shape', 'always'), ('always', 'bumping'), ('bumping', 'siri'), ('siri', 'kept'), ('kept', 'popping'), ('popping', 'irritating'), ('irritating', 'wont'), ('wont', 'buy')]\n",
      "\n",
      "Negative Bigrams:\n",
      "[('make', 'using'), ('using', 'home'), ('home', 'button'), ('button', 'easy'), ('easy', 'daughter'), ('daughter', 'like'), ('like', 'them'), ('them', 'would'), ('would', 'purchase'), ('purchase', 'again'), ('again', 'well'), ('well', 'worth'), ('worth', 'price'), ('worked', 'first'), ('first', 'week')]\n"
     ]
    }
   ],
   "source": [
    "def create_bigrams(reviews):\n",
    "    all_bigrams = []\n",
    "    for review in reviews:\n",
    "        words = review.lower().split()\n",
    "        # Creating bigrams\n",
    "        review_bigrams = [(words[i], words[i+1]) for i in range(len(words) - 1)]\n",
    "        all_bigrams.extend(review_bigrams)\n",
    "    return all_bigrams\n",
    "\n",
    "# Creating bigrams for positive and negative reviews separately\n",
    "positive_bigrams = create_bigrams(positive_reviews)\n",
    "negative_bigrams = create_bigrams(negative_reviews)\n",
    "\n",
    "print(\"Positive Bigrams:\")\n",
    "print(positive_bigrams[:15])  \n",
    "print(\"\\nNegative Bigrams:\")\n",
    "print(negative_bigrams[:15]) \n"
   ]
  },
  {
   "cell_type": "code",
   "execution_count": 7,
   "id": "a8d6f95a",
   "metadata": {},
   "outputs": [
    {
     "name": "stdout",
     "output_type": "stream",
     "text": [
      "Positive Bigram Frequency:\n",
      "('look', 'good') : 351\n",
      "('good', 'stick') : 7\n",
      "('stick', 'good') : 8\n",
      "('good', 'dont') : 111\n",
      "('dont', 'like') : 1624\n",
      "('like', 'rounded') : 10\n",
      "('rounded', 'shape') : 6\n",
      "('shape', 'always') : 1\n",
      "('always', 'bumping') : 4\n",
      "('bumping', 'siri') : 1\n",
      "Negative Bigram Frequency:\n",
      "('make', 'using') : 6\n",
      "('using', 'home') : 11\n",
      "('home', 'button') : 394\n",
      "('button', 'easy') : 21\n",
      "('easy', 'daughter') : 2\n",
      "('daughter', 'like') : 2\n",
      "('like', 'them') : 34\n",
      "('them', 'would') : 32\n",
      "('would', 'purchase') : 96\n",
      "('purchase', 'again') : 64\n"
     ]
    }
   ],
   "source": [
    "def count_bigram_frequency(reviews):\n",
    "    bigram_frequency = {}\n",
    "    for review in reviews:\n",
    "        words = review.lower().split()\n",
    "        # Creating bigrams\n",
    "        review_bigrams = [(words[i], words[i+1]) for i in range(len(words) - 1)]\n",
    "        # Counting bigram frequency\n",
    "        for bigram in review_bigrams:\n",
    "            bigram_frequency[bigram] = bigram_frequency.get(bigram, 0) + 1\n",
    "    return bigram_frequency\n",
    "# Counting frequency of bigrams in positive and negative reviews\n",
    "positive_bigram_frequency = count_bigram_frequency(positive_reviews)\n",
    "negative_bigram_frequency = count_bigram_frequency(negative_reviews)\n",
    "positive_bigram_frequency_list = list(positive_bigram_frequency.items())\n",
    "negative_bigram_frequency_list = list(negative_bigram_frequency.items())\n",
    "\n",
    "x = positive_bigram_frequency_list[:10]\n",
    "print(\"Positive Bigram Frequency:\")\n",
    "for bigram, frequency in x:\n",
    "    print(bigram, \":\", frequency)\n",
    "    \n",
    "y= negative_bigram_frequency_list[:10]\n",
    "print(\"Negative Bigram Frequency:\")\n",
    "for bigram, frequency in y:\n",
    "    print(bigram, \":\", frequency)\n"
   ]
  },
  {
   "cell_type": "markdown",
   "id": "db85eebe",
   "metadata": {},
   "source": [
    "## Sentimental analysis"
   ]
  },
  {
   "cell_type": "code",
   "execution_count": 8,
   "id": "f80d8673",
   "metadata": {},
   "outputs": [],
   "source": [
    "def determine_sentiment(review, positive_bigram_frequency, negative_bigram_frequency, positive_bigrams, negative_bigrams):\n",
    "    words = review.lower().split()\n",
    "    review_bigrams = [(words[i], words[i+1]) for i in range(len(words) - 1)]\n",
    "    # Calculating total frequency of positive and negative bigrams\n",
    "    total_positive_frequency = sum(positive_bigram_frequency.get(bigram, 0) for bigram in review_bigrams if bigram in positive_bigrams)\n",
    "    total_negative_frequency = sum(negative_bigram_frequency.get(bigram, 0) for bigram in review_bigrams if bigram in negative_bigrams)\n",
    "    # Determining sentiment based on bigram frequencies\n",
    "    if total_positive_frequency > total_negative_frequency:\n",
    "        return 'Positive'\n",
    "    elif total_positive_frequency < total_negative_frequency:\n",
    "        return 'Negative'\n",
    "    else:\n",
    "        return 'Neutral'\n",
    "\n",
    "# Precompute total frequencies of positive and negative bigrams\n",
    "total_positive_frequency = sum(positive_bigram_frequency.values())\n",
    "total_negative_frequency = sum(negative_bigram_frequency.values())\n",
    "\n",
    "with open(\"output.txt\", \"w\") as file:\n",
    "    for review in reviews_subset[:10]:\n",
    "        sentiment = determine_sentiment(review[\"reviewText\"], positive_bigram_frequency, negative_bigram_frequency, positive_bigrams, negative_bigrams)\n",
    "        file.write(f\"Review Text: {review['reviewText']} | Frequency: {len(review['reviewText'].split())} | Sentiment: {sentiment}\\n\")\n"
   ]
  },
  {
   "cell_type": "code",
   "execution_count": null,
   "id": "2a72c97a",
   "metadata": {},
   "outputs": [],
   "source": []
  }
 ],
 "metadata": {
  "kernelspec": {
   "display_name": "Python 3 (ipykernel)",
   "language": "python",
   "name": "python3"
  },
  "language_info": {
   "codemirror_mode": {
    "name": "ipython",
    "version": 3
   },
   "file_extension": ".py",
   "mimetype": "text/x-python",
   "name": "python",
   "nbconvert_exporter": "python",
   "pygments_lexer": "ipython3",
   "version": "3.11.4"
  }
 },
 "nbformat": 4,
 "nbformat_minor": 5
}
